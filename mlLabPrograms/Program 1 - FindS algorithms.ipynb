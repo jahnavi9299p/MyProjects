{
 "cells": [
  {
   "cell_type": "code",
   "execution_count": 1,
   "metadata": {},
   "outputs": [],
   "source": [
    "import pandas as pd\n",
    "import numpy as np"
   ]
  },
  {
   "cell_type": "code",
   "execution_count": 2,
   "metadata": {},
   "outputs": [],
   "source": [
    "data = pd.read_csv('wsce.csv')\n",
    "concept = np.array(data)[:,:-1]\n",
    "target = np.array(data)[:,-1]"
   ]
  },
  {
   "cell_type": "code",
   "execution_count": 3,
   "metadata": {},
   "outputs": [
    {
     "data": {
      "text/plain": [
       "(array([['Sunny', 'Warm', 'Normal', 'Strong', 'Warm', 'Same'],\n",
       "        ['Sunny', 'Warm', 'High', 'Strong', 'Warm', 'Same'],\n",
       "        ['Rainy', 'Cold', 'High', 'Strong', 'Warm', 'Change'],\n",
       "        ['Sunny', 'Warm', 'High', 'Strong', 'Cool', 'Change']],\n",
       "       dtype=object), array(['Y', 'Y', 'N', 'Y'], dtype=object))"
      ]
     },
     "execution_count": 3,
     "metadata": {},
     "output_type": "execute_result"
    }
   ],
   "source": [
    "concept,target"
   ]
  },
  {
   "cell_type": "code",
   "execution_count": 12,
   "metadata": {},
   "outputs": [],
   "source": [
    "def train(con,tar):\n",
    "    specific_h = ''\n",
    "    for i , val in enumerate(tar):\n",
    "        if val == 'Y':\n",
    "            specific_h = con[i].copy()\n",
    "            print(\"Copied example\",i,\":\",specific_h)\n",
    "            break\n",
    "        \n",
    "    for i, val in enumerate(con):\n",
    "        if tar[i] == 'Y':\n",
    "            for x in range(len(specific_h)):\n",
    "                if val[x]!=specific_h[x]:\n",
    "                    specific_h[x] = '?'\n",
    "                    print(\"Changed attribute\",x,\"to\",specific_h)\n",
    "                else:\n",
    "                    print(\"Attribute not changed:\",x)\n",
    "                    pass\n",
    "    return specific_h"
   ]
  },
  {
   "cell_type": "code",
   "execution_count": 13,
   "metadata": {},
   "outputs": [
    {
     "name": "stdout",
     "output_type": "stream",
     "text": [
      "Copied example 0 : ['Sunny' 'Warm' 'Normal' 'Strong' 'Warm' 'Same']\n",
      "Attribute not changed: 0\n",
      "Attribute not changed: 1\n",
      "Attribute not changed: 2\n",
      "Attribute not changed: 3\n",
      "Attribute not changed: 4\n",
      "Attribute not changed: 5\n",
      "Attribute not changed: 0\n",
      "Attribute not changed: 1\n",
      "Changed attribute 2 to ['Sunny' 'Warm' '?' 'Strong' 'Warm' 'Same']\n",
      "Attribute not changed: 3\n",
      "Attribute not changed: 4\n",
      "Attribute not changed: 5\n",
      "Attribute not changed: 0\n",
      "Attribute not changed: 1\n",
      "Changed attribute 2 to ['Sunny' 'Warm' '?' 'Strong' 'Warm' 'Same']\n",
      "Attribute not changed: 3\n",
      "Changed attribute 4 to ['Sunny' 'Warm' '?' 'Strong' '?' 'Same']\n",
      "Changed attribute 5 to ['Sunny' 'Warm' '?' 'Strong' '?' '?']\n",
      "['Sunny' 'Warm' '?' 'Strong' '?' '?']\n"
     ]
    }
   ],
   "source": [
    "print(train(concept,target))"
   ]
  },
  {
   "cell_type": "code",
   "execution_count": null,
   "metadata": {},
   "outputs": [],
   "source": []
  }
 ],
 "metadata": {
  "kernelspec": {
   "display_name": "Python 3",
   "language": "python",
   "name": "python3"
  },
  "language_info": {
   "codemirror_mode": {
    "name": "ipython",
    "version": 3
   },
   "file_extension": ".py",
   "mimetype": "text/x-python",
   "name": "python",
   "nbconvert_exporter": "python",
   "pygments_lexer": "ipython3",
   "version": "3.7.1"
  }
 },
 "nbformat": 4,
 "nbformat_minor": 2
}
