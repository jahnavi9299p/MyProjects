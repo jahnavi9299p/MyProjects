{
 "cells": [
  {
   "cell_type": "markdown",
   "metadata": {},
   "source": [
    "# ERROR doesn't behave as expected\n",
    "Output is wrong"
   ]
  },
  {
   "cell_type": "code",
   "execution_count": 1,
   "metadata": {},
   "outputs": [],
   "source": [
    "import numpy as np\n",
    "import pandas as pd"
   ]
  },
  {
   "cell_type": "code",
   "execution_count": 2,
   "metadata": {},
   "outputs": [],
   "source": [
    "data = pd.read_csv('wsce.csv')\n",
    "concepts = np.array(data.iloc[:,0:-1])\n",
    "target = np.array(data.iloc[:,-1])"
   ]
  },
  {
   "cell_type": "code",
   "execution_count": 3,
   "metadata": {},
   "outputs": [
    {
     "data": {
      "text/plain": [
       "(array([['Sunny', 'Warm', 'Normal', 'Strong', 'Warm', 'Same'],\n",
       "        ['Sunny', 'Warm', 'High', 'Strong', 'Warm', 'Same'],\n",
       "        ['Rainy', 'Cold', 'High', 'Strong', 'Warm', 'Change'],\n",
       "        ['Sunny', 'Warm', 'High', 'Strong', 'Cool', 'Change']],\n",
       "       dtype=object), array(['Y', 'Y', 'N', 'Y'], dtype=object))"
      ]
     },
     "execution_count": 3,
     "metadata": {},
     "output_type": "execute_result"
    }
   ],
   "source": [
    "concepts,target"
   ]
  },
  {
   "cell_type": "code",
   "execution_count": 4,
   "metadata": {},
   "outputs": [],
   "source": [
    "def learn(concepts,target):\n",
    "    count = 0\n",
    "    first = ['?','?','?','?','?','?']\n",
    "    for i, val in enumerate(target):\n",
    "        if val == 'yes':\n",
    "            #print(specific_h)\n",
    "            break\n",
    "    specific_h = concepts[i].copy()\n",
    "    generic_h = [[\"?\" for i in range(len(specific_h))] for i in range (len(specific_h))]\n",
    "    print(\"Originally Specific Hypothesis are:\",specific_h)\n",
    "    print(\"\\nOriginally Generic Hypothesis are:\",generic_h)\n",
    "    for i,h in enumerate(concepts):\n",
    "        if target[i] == \"Y\":\n",
    "            for x in range(len(specific_h)):\n",
    "                if h[x] != specific_h[x]:\n",
    "                    specific_h[x] = \"?\"\n",
    "                    generic_h[x][x] = \"?\"  \n",
    "#                     print(\"\\nYes Ex:\",i,\"Specific Attribute\",x,\"changed to\",specific_h)\n",
    "#                     print(\"Yes Ex:\",i,\"Generic Collection\",generic_h)\n",
    "        if target[i] == \"N\":\n",
    "            for x in range(len(specific_h)):\n",
    "                if h[x] != specific_h[x]:\n",
    "                    generic_h[x][x] = specific_h[x]\n",
    "#                     print(\"\\nNo Ex:\",i,\"Specific Attribute\",x,\"not changed\")\n",
    "#                     print(\"No Ex:\",i,\"Generic Collection\",generic_h)\n",
    "                else:\n",
    "                    generic_h[x][x] == \"?\"\n",
    "#                     print(\"\\nNo Ex:\",i,\"Specific Attribute\",x,\"not changed\")\n",
    "#                     print(\"No Ex:\",i,\"Generic Collection\",generic_h)\n",
    "        if generic_h[x][x] == \"?\":\n",
    "            print(f'\\nS{count} : {specific_h}')\n",
    "            print(f'G{count} : {first}')\n",
    "            count+=1    \n",
    "#               pass\n",
    "        else:\n",
    "            print(f'S{count} : {specific_h}')\n",
    "            print(f'G{count} : {generic_h}')\n",
    "            for x in range(len(generic_h)):\n",
    "                first[x] = generic_h[x]\n",
    "            count += 1      \n",
    "#         print(f'\\nS{count} : {specific_h}')\n",
    "#         print(f'G{count} : {generic_h}')\n",
    "#         count += 1\n",
    "    indices=[i for i, val in enumerate(generic_h)if val == ['?','?','?','?','?','?']]\n",
    "    for i in indices:\n",
    "        generic_h.remove(['?','?','?','?','?','?'])\n",
    "    return specific_h, generic_h"
   ]
  },
  {
   "cell_type": "code",
   "execution_count": 5,
   "metadata": {},
   "outputs": [
    {
     "name": "stdout",
     "output_type": "stream",
     "text": [
      "Originally Specific Hypothesis are: ['Sunny' 'Warm' 'High' 'Strong' 'Cool' 'Change']\n",
      "\n",
      "Originally Generic Hypothesis are: [['?', '?', '?', '?', '?', '?'], ['?', '?', '?', '?', '?', '?'], ['?', '?', '?', '?', '?', '?'], ['?', '?', '?', '?', '?', '?'], ['?', '?', '?', '?', '?', '?'], ['?', '?', '?', '?', '?', '?']]\n",
      "\n",
      "S0 : ['Sunny' 'Warm' '?' 'Strong' '?' '?']\n",
      "G0 : ['?', '?', '?', '?', '?', '?']\n",
      "\n",
      "S1 : ['Sunny' 'Warm' '?' 'Strong' '?' '?']\n",
      "G1 : ['?', '?', '?', '?', '?', '?']\n",
      "\n",
      "S2 : ['Sunny' 'Warm' '?' 'Strong' '?' '?']\n",
      "G2 : ['?', '?', '?', '?', '?', '?']\n",
      "\n",
      "S3 : ['Sunny' 'Warm' '?' 'Strong' '?' '?']\n",
      "G3 : ['?', '?', '?', '?', '?', '?']\n",
      "final s:\n",
      "['Sunny' 'Warm' '?' 'Strong' '?' '?']\n",
      "final g:\n",
      "[['Sunny', '?', '?', '?', '?', '?'], ['?', 'Warm', '?', '?', '?', '?']]\n"
     ]
    }
   ],
   "source": [
    "s_final,g_final = learn(concepts,target)\n",
    "print(\"final s:\",s_final,sep=\"\\n\")\n",
    "print(\"final g:\",g_final,sep=\"\\n\")"
   ]
  },
  {
   "cell_type": "code",
   "execution_count": null,
   "metadata": {},
   "outputs": [],
   "source": []
  }
 ],
 "metadata": {
  "kernelspec": {
   "display_name": "Python 3",
   "language": "python",
   "name": "python3"
  },
  "language_info": {
   "codemirror_mode": {
    "name": "ipython",
    "version": 3
   },
   "file_extension": ".py",
   "mimetype": "text/x-python",
   "name": "python",
   "nbconvert_exporter": "python",
   "pygments_lexer": "ipython3",
   "version": "3.7.1"
  }
 },
 "nbformat": 4,
 "nbformat_minor": 2
}
