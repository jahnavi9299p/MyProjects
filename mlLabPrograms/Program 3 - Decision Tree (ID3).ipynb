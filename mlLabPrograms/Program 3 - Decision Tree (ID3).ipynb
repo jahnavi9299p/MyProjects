{
 "cells": [
  {
   "cell_type": "code",
   "execution_count": 1,
   "metadata": {},
   "outputs": [],
   "source": [
    "import csv\n",
    "import numpy as np\n",
    "import math\n",
    "import pandas as pd"
   ]
  },
  {
   "cell_type": "code",
   "execution_count": 2,
   "metadata": {},
   "outputs": [],
   "source": [
    "def read_data(filename):\n",
    "    with open(filename, 'r') as csvfile:\n",
    "        datareader = csv.reader(csvfile, delimiter=',')\n",
    "        headers = next(datareader)\n",
    "        metadata = []\n",
    "        traindata = []\n",
    "        for name in headers:\n",
    "            metadata.append(name)\n",
    "        for row in datareader:\n",
    "            traindata.append(row)\n",
    "    return (metadata, traindata)\n"
   ]
  },
  {
   "cell_type": "code",
   "execution_count": 3,
   "metadata": {},
   "outputs": [],
   "source": [
    "class Node:\n",
    "    def __init__(self, attribute):\n",
    "        self.attribute = attribute\n",
    "        self.children = []\n",
    "        self.answer = \"\" #answer is the resultant classification\n",
    "\n",
    "    def __str__(self):\n",
    "        return self.attribute"
   ]
  },
  {
   "cell_type": "code",
   "execution_count": 4,
   "metadata": {},
   "outputs": [],
   "source": [
    "def subtables(data, col, delete):\n",
    "    dict = {}\n",
    "    items = np.unique(data[:, col]) \n",
    "    #find the classes in that column of data into items[]\n",
    "    #now items is a 1-D array hence items[0] contains no. of rows each representing an unique class\n",
    "    count = np.zeros((items.shape[0], 1), dtype=np.int32)    \n",
    "    #make a matrix of zeroes\n",
    "    \n",
    "    for x in range(items.shape[0]):\n",
    "        #for every class in the column\n",
    "        for y in range(data.shape[0]):\n",
    "            #for example in the data \n",
    "            if data[y, col] == items[x]:\n",
    "                #count the no. of examples representing each class in that column\n",
    "                count[x] += 1\n",
    "                \n",
    "    for x in range(items.shape[0]):\n",
    "        #for every class \n",
    "        dict[items[x]] = np.empty((int(count[x]), data.shape[1]), dtype=\"|S32\") # \"S32\" means array containing string\n",
    "        #np.empty(shape tuple, datatype) create an array specified shape in the default of that datatype\n",
    "        #shape = (int(count[x]), data.shape[1]) is (integer(no. of examples for that class) , total_cols in data)\n",
    "        pos = 0\n",
    "        for y in range(data.shape[0]):\n",
    "            #for every example in data\n",
    "            if data[y, col] == items[x]:\n",
    "                #if the class of that example in that attribut(col) matches \n",
    "                dict[items[x]][pos] = data[y]\n",
    "                #overwrite the empty matrix's row value of that key in dictionary with whole example\n",
    "                pos += 1    \n",
    "                #traverse to the next row in the matrix\n",
    "        if delete:\n",
    "            #delete was a parameter from the calling method set to default false\n",
    "            #this case executes only if ....\n",
    "            dict[items[x]] = np.delete(dict[items[x]], col, 1)\n",
    "            #np.delete(array , col , axis) returns the result after removing either a row(axis = 0) or a column(axis=1)\n",
    "            #in this case an entire column is delete for it is processed\n",
    "            #the result of delete operation is updated as value in the dictionary\n",
    "            \n",
    "            #finally return the list of classes and the associated dictionary\n",
    "    return items, dict"
   ]
  },
  {
   "cell_type": "code",
   "execution_count": 5,
   "metadata": {},
   "outputs": [],
   "source": [
    "def entropy(S):\n",
    "    items = np.unique(S)\n",
    "\n",
    "\n",
    "    if items.size == 1:\n",
    "        return 0\n",
    "    counts = np.zeros((items.shape[0], 1))\n",
    "    sums = 0\n",
    "    for x in range(items.shape[0]):\n",
    "        counts[x] = sum(S == items[x]) / (S.size * 1.0)\n",
    "    for count in counts:\n",
    "        sums += -1 * count * math.log(count, 2)\n",
    "    return sums"
   ]
  },
  {
   "cell_type": "code",
   "execution_count": 6,
   "metadata": {},
   "outputs": [],
   "source": [
    "def gain_ratio(data, col):\n",
    "    items, dict = subtables(data, col, delete=False) #first find the unique classes for that col hence make a subtable\n",
    "    #items = list of unique classes in that columns\n",
    "    #dict is a dictionary of key,value where key is a class and value is the matrix of example representing the key at that column\n",
    "    \n",
    "    total_size = data.shape[0] #total no. of examples\n",
    "    entropies = np.zeros((items.shape[0], 1))\n",
    "    #creating a zeroes matrix as [[0],[0],[0],[0],...n] shape = list of n arrays coantaining only one element 0\n",
    "    #created to represent entropy for every class\n",
    "    intrinsic = np.zeros((items.shape[0], 1))\n",
    "    #created to represent intinsic for every class\n",
    "    \n",
    "    for x in range(items.shape[0]):\n",
    "        #for every class in that col\n",
    "        ratio = dict[items[x]].shape[0]/(total_size * 1.0) #no of examples representing that class in the col / no. of examples in data\n",
    "        entropies[x] = ratio * entropy(dict[items[x]][:, -1]) #multiply ratio to every row of entropy 2-D array except for last col\n",
    "                                                              #entropy() user defined method return the entropy value\n",
    "        intrinsic[x] = ratio * math.log(ratio, 2) \n",
    "\n",
    "    total_entropy = entropy(data[:, -1]) #assign the resultant entropy of all the classes\n",
    "    iv = -1 * sum(intrinsic) #summation of all values in a 1-D array\n",
    "    for x in range(entropies.shape[0]):\n",
    "        #for every class subtract the actual entropy form the total\n",
    "        total_entropy -= entropies[x] #Note: total was a sum of ratio*entropy \n",
    "        #total = sum(ratio * entropy) - entropy\n",
    "        \n",
    "    #finally return the profitablility score for the attribute(i.e. col)\n",
    "    return total_entropy / iv"
   ]
  },
  {
   "cell_type": "code",
   "execution_count": 7,
   "metadata": {},
   "outputs": [],
   "source": [
    "def create_node(data, metadata):\n",
    "        #unique values in the last column of the matrix \n",
    "        #representing 2-D matrix data[every row][last] as data[:,-1]\n",
    "    if (np.unique(data[:, -1])).shape[0] == 1:\n",
    "        #case represents only a constant value for the attribute throughout the experienced dataset\n",
    "        node = Node(\"\")#Node's attribute currently null string\n",
    "        node.answer = np.unique(data[:, -1])[0]#overwriting the answer attribute with the only class value hence [0]\n",
    "        return node \n",
    "    \n",
    "    gains = np.zeros((data.shape[1] - 1, 1))\n",
    "    #shape is an attribute of that particular datatype that returns a tuple(rows,columns)\n",
    "    #tuple[1] extracts the value at index 1\n",
    "    #np.zeros fills the marix of shape mentioned in tuple with zeroes\n",
    "    \n",
    "    for col in range(data.shape[1] - 1):\n",
    "        #range is from 0 to (mentioned_no - 1)\n",
    "        gains[col] = gain_ratio(data, col)\n",
    "        #to find out the most profitable columns in the table\n",
    "        #gain_ratio returned the profitablility score for that particular attribute(i.e. col)\n",
    "        \n",
    "    split = np.argmax(gains)\n",
    "    # return the index( in this case the col pos) of the max value 1-D array. https://docs.scipy.org/doc/numpy/reference/generated/numpy.argmax.html\n",
    "\n",
    "    node = Node(metadata[split])    \n",
    "    #Create a new node with column name of the max entropy i.e. variable split\n",
    "    metadata = np.delete(metadata, split, 0)\n",
    "    #delete the column of max entropy i.e. split which just been processed. The remainder array is overwritten into metadata\n",
    "    \n",
    "    items, dict = subtables(data, split, delete=True)\n",
    "    #now retrieve all the classes of the most profitabel column \n",
    "    for x in range(items.shape[0]):\n",
    "        #every class is appended as child\n",
    "        child = create_node(dict[items[x]], metadata) #child node is created\n",
    "        node.children.append((items[x], child)) #append the child node into the children list of the most profitable col node\n",
    "        \n",
    "    #finally return the node with its children\n",
    "    return node"
   ]
  },
  {
   "cell_type": "code",
   "execution_count": 8,
   "metadata": {},
   "outputs": [],
   "source": [
    "def empty(size):\n",
    "    s = \"\"\n",
    "    for x in range(size):\n",
    "        s += \"   \" # this is mostly for user friendly spacing for clarity in tree structuring\n",
    "    return s"
   ]
  },
  {
   "cell_type": "code",
   "execution_count": 9,
   "metadata": {},
   "outputs": [],
   "source": [
    "def print_tree(node, level):\n",
    "    if node.answer != \"\":\n",
    "        #if the node's classification is null string\n",
    "        print(empty(level), node.answer)\n",
    "        #conclude that the decision tree is empty\n",
    "        return\n",
    "    \n",
    "    print(empty(level), node.attribute)\n",
    "    #with printing every level's attribute of the tree, empty the level \n",
    "    for value, n in node.children:\n",
    "        #for every attribute and node of the child\n",
    "        print(empty(level + 1), value)\n",
    "        print_tree(n, level + 2)"
   ]
  },
  {
   "cell_type": "code",
   "execution_count": 10,
   "metadata": {},
   "outputs": [
    {
     "name": "stdout",
     "output_type": "stream",
     "text": [
      "['outlook', 'temperature', 'humidity', 'wind', 'answer']\n",
      "\n",
      " [['sunny', 'hot', 'high', 'weak', 'no'], ['sunny', 'hot', 'high', 'strong', 'no'], ['overcast', 'hot', 'high', 'weak', 'yes'], ['rain', 'mild', 'high', 'weak', 'yes'], ['rain', 'cool', 'normal', 'weak', 'yes'], ['rain', 'cool', 'normal', 'strong', 'no'], ['overcast', 'cool', 'normal', 'strong', 'yes'], ['sunny', 'mild', 'high', 'weak', 'no'], ['sunny', 'cool', 'normal', 'weak', 'yes'], ['rain', 'mild', 'normal', 'weak', 'yes'], ['sunny', 'mild', 'normal', 'strong', 'yes'], ['overcast', 'mild', 'high', 'strong', 'yes'], ['overcast', 'hot', 'normal', 'weak', 'yes'], ['rain', 'mild', 'high', 'strong', 'no']] \n",
      "\n",
      " outlook\n",
      "    overcast\n",
      "       b'yes'\n",
      "    rain\n",
      "       wind\n",
      "          b'strong'\n",
      "             b'no'\n",
      "          b'weak'\n",
      "             b'yes'\n",
      "    sunny\n",
      "       humidity\n",
      "          b'high'\n",
      "             b'no'\n",
      "          b'normal'\n",
      "             b'yes'\n"
     ]
    }
   ],
   "source": [
    "metadata, traindata = read_data(\"tennis.data\")\n",
    "print(metadata)\n",
    "print(\"\\n\",traindata,\"\\n\")\n",
    "data = np.array(traindata)\n",
    "\n",
    "node = create_node(data, metadata)\n",
    "#the most profitable col node is crreated appended to its children\n",
    "print_tree(node, 0)\n",
    "#now print the total tree with the most profitable column as a root"
   ]
  },
  {
   "cell_type": "code",
   "execution_count": 11,
   "metadata": {},
   "outputs": [
    {
     "data": {
      "text/plain": [
       "array([['sunny', 'hot', 'high', 'weak', 'no'],\n",
       "       ['sunny', 'hot', 'high', 'strong', 'no'],\n",
       "       ['overcast', 'hot', 'high', 'weak', 'yes'],\n",
       "       ['rain', 'mild', 'high', 'weak', 'yes'],\n",
       "       ['rain', 'cool', 'normal', 'weak', 'yes'],\n",
       "       ['rain', 'cool', 'normal', 'strong', 'no'],\n",
       "       ['overcast', 'cool', 'normal', 'strong', 'yes'],\n",
       "       ['sunny', 'mild', 'high', 'weak', 'no'],\n",
       "       ['sunny', 'cool', 'normal', 'weak', 'yes'],\n",
       "       ['rain', 'mild', 'normal', 'weak', 'yes'],\n",
       "       ['sunny', 'mild', 'normal', 'strong', 'yes'],\n",
       "       ['overcast', 'mild', 'high', 'strong', 'yes'],\n",
       "       ['overcast', 'hot', 'normal', 'weak', 'yes'],\n",
       "       ['rain', 'mild', 'high', 'strong', 'no']], dtype='<U8')"
      ]
     },
     "execution_count": 11,
     "metadata": {},
     "output_type": "execute_result"
    }
   ],
   "source": [
    "data"
   ]
  },
  {
   "cell_type": "code",
   "execution_count": 12,
   "metadata": {},
   "outputs": [
    {
     "name": "stdout",
     "output_type": "stream",
     "text": [
      "Numpy Unique ['no' 'yes']\n"
     ]
    }
   ],
   "source": [
    "print(\"Numpy Unique\",np.unique(data[:, -1]))"
   ]
  },
  {
   "cell_type": "code",
   "execution_count": 13,
   "metadata": {},
   "outputs": [
    {
     "data": {
      "text/plain": [
       "(numpy.ndarray, (14, 5))"
      ]
     },
     "execution_count": 13,
     "metadata": {},
     "output_type": "execute_result"
    }
   ],
   "source": [
    "type(data) , data.shape"
   ]
  },
  {
   "cell_type": "markdown",
   "metadata": {},
   "source": [
    "shape is an attribute of the datatype"
   ]
  },
  {
   "cell_type": "code",
   "execution_count": 14,
   "metadata": {},
   "outputs": [
    {
     "data": {
      "text/plain": [
       "(5,)"
      ]
     },
     "execution_count": 14,
     "metadata": {},
     "output_type": "execute_result"
    }
   ],
   "source": [
    "np.unique(data[1]).shape"
   ]
  },
  {
   "cell_type": "code",
   "execution_count": null,
   "metadata": {},
   "outputs": [],
   "source": []
  }
 ],
 "metadata": {
  "kernelspec": {
   "display_name": "Python 3",
   "language": "python",
   "name": "python3"
  },
  "language_info": {
   "codemirror_mode": {
    "name": "ipython",
    "version": 3
   },
   "file_extension": ".py",
   "mimetype": "text/x-python",
   "name": "python",
   "nbconvert_exporter": "python",
   "pygments_lexer": "ipython3",
   "version": "3.7.1"
  }
 },
 "nbformat": 4,
 "nbformat_minor": 2
}
